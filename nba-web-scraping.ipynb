{
 "cells": [
  {
   "cell_type": "markdown",
   "id": "d704c23e",
   "metadata": {},
   "source": [
    "# 0. Install and load packages"
   ]
  },
  {
   "cell_type": "code",
   "execution_count": 1,
   "id": "bc024998",
   "metadata": {
    "scrolled": true
   },
   "outputs": [
    {
     "name": "stderr",
     "output_type": "stream",
     "text": [
      "Registered S3 methods overwritten by 'ggplot2':\n",
      "  method         from \n",
      "  [.quosures     rlang\n",
      "  c.quosures     rlang\n",
      "  print.quosures rlang\n",
      "Registered S3 method overwritten by 'rvest':\n",
      "  method            from\n",
      "  read_xml.response xml2\n",
      "-- Attaching packages --------------------------------------- tidyverse 1.2.1 --\n",
      "v ggplot2 3.1.1       v purrr   0.3.2  \n",
      "v tibble  2.1.1       v dplyr   0.8.0.1\n",
      "v tidyr   0.8.3       v stringr 1.4.0  \n",
      "v readr   1.3.1       v forcats 0.4.0  \n",
      "-- Conflicts ------------------------------------------ tidyverse_conflicts() --\n",
      "x dplyr::filter() masks stats::filter()\n",
      "x dplyr::lag()    masks stats::lag()\n",
      "Loading required package: xml2\n",
      "\n",
      "Attaching package: 'rvest'\n",
      "\n",
      "The following object is masked from 'package:purrr':\n",
      "\n",
      "    pluck\n",
      "\n",
      "The following object is masked from 'package:readr':\n",
      "\n",
      "    guess_encoding\n",
      "\n",
      "\n",
      "Attaching package: 'gridExtra'\n",
      "\n",
      "The following object is masked from 'package:dplyr':\n",
      "\n",
      "    combine\n",
      "\n"
     ]
    }
   ],
   "source": [
    "# install.packages(\"tidyverse\")\n",
    "# install.packages(\"rvest\")\n",
    "# install.packages(\"gridExtra\")\n",
    "# install.packages(\"ggcorrplot\")\n",
    "options(warn=-1)\n",
    "library(tidyverse)\n",
    "library(rvest)\n",
    "library(gridExtra)\n",
    "library(ggcorrplot)"
   ]
  },
  {
   "cell_type": "markdown",
   "id": "28ec86e2",
   "metadata": {},
   "source": [
    "# 1. Web scraping for a single team"
   ]
  },
  {
   "cell_type": "markdown",
   "id": "62e04e40",
   "metadata": {},
   "source": [
    "## 1.1 Boston Celtics roster"
   ]
  },
  {
   "cell_type": "code",
   "execution_count": 2,
   "id": "06f472e2",
   "metadata": {
    "scrolled": true
   },
   "outputs": [
    {
     "data": {
      "text/html": [
       "<table>\n",
       "<thead><tr><th scope=col>name</th><th scope=col>position</th><th scope=col>age</th><th scope=col>height</th><th scope=col>weight</th><th scope=col>college</th><th scope=col>salary</th></tr></thead>\n",
       "<tbody>\n",
       "\t<tr><td>Malcolm Brogdon  </td><td>PG               </td><td>29               </td><td>6' 5\"            </td><td>229 lbs          </td><td>Virginia         </td><td>$22,600,000      </td></tr>\n",
       "\t<tr><td>Jaylen Brown     </td><td>SG               </td><td>25               </td><td>6' 6\"            </td><td>223 lbs          </td><td>California       </td><td>$28,741,071      </td></tr>\n",
       "\t<tr><td>JD Davison       </td><td>G                </td><td>19               </td><td>6' 3\"            </td><td>195 lbs          </td><td>Alabama          </td><td>--               </td></tr>\n",
       "\t<tr><td>Danilo Gallinari </td><td>F                </td><td>34               </td><td>6' 10\"           </td><td>236 lbs          </td><td>--               </td><td>$6,479,000       </td></tr>\n",
       "\t<tr><td>Sam Hauser       </td><td>SF               </td><td>24               </td><td>6' 8\"            </td><td>215 lbs          </td><td>Virginia         </td><td>$1,563,518       </td></tr>\n",
       "\t<tr><td>Al Horford       </td><td>C                </td><td>36               </td><td>6' 9\"            </td><td>240 lbs          </td><td>Florida          </td><td>$26,500,000      </td></tr>\n",
       "\t<tr><td>Mfiondu Kabengele</td><td>C                </td><td>25               </td><td>6' 10\"           </td><td>250 lbs          </td><td>Florida State    </td><td>$1,701,593       </td></tr>\n",
       "\t<tr><td>Luke Kornet      </td><td>F                </td><td>27               </td><td>7' 2\"            </td><td>250 lbs          </td><td>Vanderbilt       </td><td>$2,133,278       </td></tr>\n",
       "\t<tr><td>Payton Pritchard </td><td>PG               </td><td>24               </td><td>6' 1\"            </td><td>195 lbs          </td><td>Oregon           </td><td>$2,239,200       </td></tr>\n",
       "\t<tr><td>Matt Ryan        </td><td>F                </td><td>25               </td><td>6' 7\"            </td><td>215 lbs          </td><td>Chattanooga      </td><td>--               </td></tr>\n",
       "</tbody>\n",
       "</table>\n"
      ],
      "text/latex": [
       "\\begin{tabular}{r|lllllll}\n",
       " name & position & age & height & weight & college & salary\\\\\n",
       "\\hline\n",
       "\t Malcolm Brogdon   & PG                & 29                & 6' 5\"             & 229 lbs           & Virginia          & \\$22,600,000    \\\\\n",
       "\t Jaylen Brown      & SG                & 25                & 6' 6\"             & 223 lbs           & California        & \\$28,741,071    \\\\\n",
       "\t JD Davison        & G                 & 19                & 6' 3\"             & 195 lbs           & Alabama           & --               \\\\\n",
       "\t Danilo Gallinari  & F                 & 34                & 6' 10\"            & 236 lbs           & --                & \\$6,479,000     \\\\\n",
       "\t Sam Hauser        & SF                & 24                & 6' 8\"             & 215 lbs           & Virginia          & \\$1,563,518     \\\\\n",
       "\t Al Horford        & C                 & 36                & 6' 9\"             & 240 lbs           & Florida           & \\$26,500,000    \\\\\n",
       "\t Mfiondu Kabengele & C                 & 25                & 6' 10\"            & 250 lbs           & Florida State     & \\$1,701,593     \\\\\n",
       "\t Luke Kornet       & F                 & 27                & 7' 2\"             & 250 lbs           & Vanderbilt        & \\$2,133,278     \\\\\n",
       "\t Payton Pritchard  & PG                & 24                & 6' 1\"             & 195 lbs           & Oregon            & \\$2,239,200     \\\\\n",
       "\t Matt Ryan         & F                 & 25                & 6' 7\"             & 215 lbs           & Chattanooga       & --               \\\\\n",
       "\\end{tabular}\n"
      ],
      "text/markdown": [
       "\n",
       "| name | position | age | height | weight | college | salary |\n",
       "|---|---|---|---|---|---|---|\n",
       "| Malcolm Brogdon   | PG                | 29                | 6' 5\"             | 229 lbs           | Virginia          | $22,600,000       |\n",
       "| Jaylen Brown      | SG                | 25                | 6' 6\"             | 223 lbs           | California        | $28,741,071       |\n",
       "| JD Davison        | G                 | 19                | 6' 3\"             | 195 lbs           | Alabama           | --                |\n",
       "| Danilo Gallinari  | F                 | 34                | 6' 10\"            | 236 lbs           | --                | $6,479,000        |\n",
       "| Sam Hauser        | SF                | 24                | 6' 8\"             | 215 lbs           | Virginia          | $1,563,518        |\n",
       "| Al Horford        | C                 | 36                | 6' 9\"             | 240 lbs           | Florida           | $26,500,000       |\n",
       "| Mfiondu Kabengele | C                 | 25                | 6' 10\"            | 250 lbs           | Florida State     | $1,701,593        |\n",
       "| Luke Kornet       | F                 | 27                | 7' 2\"             | 250 lbs           | Vanderbilt        | $2,133,278        |\n",
       "| Payton Pritchard  | PG                | 24                | 6' 1\"             | 195 lbs           | Oregon            | $2,239,200        |\n",
       "| Matt Ryan         | F                 | 25                | 6' 7\"             | 215 lbs           | Chattanooga       | --                |\n",
       "\n"
      ],
      "text/plain": [
       "   name              position age height weight  college       salary     \n",
       "1  Malcolm Brogdon   PG       29  6' 5\"  229 lbs Virginia      $22,600,000\n",
       "2  Jaylen Brown      SG       25  6' 6\"  223 lbs California    $28,741,071\n",
       "3  JD Davison        G        19  6' 3\"  195 lbs Alabama       --         \n",
       "4  Danilo Gallinari  F        34  6' 10\" 236 lbs --            $6,479,000 \n",
       "5  Sam Hauser        SF       24  6' 8\"  215 lbs Virginia      $1,563,518 \n",
       "6  Al Horford        C        36  6' 9\"  240 lbs Florida       $26,500,000\n",
       "7  Mfiondu Kabengele C        25  6' 10\" 250 lbs Florida State $1,701,593 \n",
       "8  Luke Kornet       F        27  7' 2\"  250 lbs Vanderbilt    $2,133,278 \n",
       "9  Payton Pritchard  PG       24  6' 1\"  195 lbs Oregon        $2,239,200 \n",
       "10 Matt Ryan         F        25  6' 7\"  215 lbs Chattanooga   --         "
      ]
     },
     "metadata": {},
     "output_type": "display_data"
    }
   ],
   "source": [
    "celtics_link = \"https://www.espn.com/nba/team/roster/_/name/bos/boston-celtics\"\n",
    "celtics_page = read_html(celtics_link)\n",
    "name = celtics_page %>% html_nodes(\".Table__TD+ .Table__TD .AnchorLink\") %>% html_text()\n",
    "position = celtics_page %>% html_nodes(\".Table__TD:nth-child(3) .inline\") %>% html_text()\n",
    "age = celtics_page %>% html_nodes(\".Table__TD:nth-child(4) .inline\") %>% html_text()\n",
    "height = celtics_page %>% html_nodes(\".Table__TD:nth-child(5) .inline\") %>% html_text()\n",
    "weight = celtics_page %>% html_nodes(\".Table__TD:nth-child(6) .inline\") %>% html_text()\n",
    "college = celtics_page %>% html_nodes(\".Table__TD:nth-child(7) .inline\") %>% html_text()\n",
    "salary = celtics_page %>% html_nodes(\".Table__TD:nth-child(8) .inline\") %>% html_text()\n",
    "\n",
    "# Create data frame\n",
    "celtics_df = data.frame(\"name\" = name, \"position\" = position, \"age\" = age,\n",
    "\"height\" = height, \"weight\" = weight, \"college\" = college, \"salary\" = salary)\n",
    "head(celtics_df, 10)"
   ]
  },
  {
   "cell_type": "markdown",
   "id": "9180fc64",
   "metadata": {},
   "source": [
    "## 1.2 Boston Celtics players statistics (regular season)"
   ]
  },
  {
   "cell_type": "code",
   "execution_count": 3,
   "id": "95ca62af",
   "metadata": {},
   "outputs": [],
   "source": [
    "get_stats = function(link) {\n",
    "  page = read_html(link)\n",
    "  stats = page %>% html_nodes(\".pv3 .clr-gray-02\") %>% html_text() %>% paste(collapse = \", \")\n",
    "  return(stats)\n",
    "}\n",
    "\n",
    "celtics_stats_link = celtics_page %>% html_nodes(\".Table__TD+ .Table__TD .AnchorLink\") %>% html_attr(\"href\")\n",
    "stats = unname(sapply(celtics_stats_link, FUN=get_stats))"
   ]
  },
  {
   "cell_type": "code",
   "execution_count": 4,
   "id": "f1abdefc",
   "metadata": {},
   "outputs": [
    {
     "data": {
      "text/html": [
       "<table>\n",
       "<thead><tr><th scope=col>name</th><th scope=col>position</th><th scope=col>age</th><th scope=col>height</th><th scope=col>weight</th><th scope=col>college</th><th scope=col>salary</th><th scope=col>points</th><th scope=col>assist</th><th scope=col>rebound</th><th scope=col>efficiency_rating</th></tr></thead>\n",
       "<tbody>\n",
       "\t<tr><td>Malcolm Brogdon  </td><td>PG               </td><td>29               </td><td>6' 5\"            </td><td>229 lbs          </td><td>Virginia         </td><td>$22,600,000      </td><td>19.1             </td><td>5.1              </td><td>5.9              </td><td>18.10            </td></tr>\n",
       "\t<tr><td>Jaylen Brown     </td><td>SG               </td><td>25               </td><td>6' 6\"            </td><td>223 lbs          </td><td>California       </td><td>$28,741,071      </td><td>23.6             </td><td>6.1              </td><td>3.5              </td><td>18.98            </td></tr>\n",
       "\t<tr><td>JD Davison       </td><td>G                </td><td>19               </td><td>6' 3\"            </td><td>195 lbs          </td><td>Alabama          </td><td>--               </td><td>                 </td><td>NA               </td><td>NA               </td><td>NA               </td></tr>\n",
       "\t<tr><td>Danilo Gallinari </td><td>F                </td><td>34               </td><td>6' 10\"           </td><td>236 lbs          </td><td>--               </td><td>$6,479,000       </td><td>11.7             </td><td>4.7              </td><td>1.5              </td><td>14.35            </td></tr>\n",
       "\t<tr><td>Sam Hauser       </td><td>SF               </td><td>24               </td><td>6' 8\"            </td><td>215 lbs          </td><td>Virginia         </td><td>$1,563,518       </td><td>2.5              </td><td>1.1              </td><td>0.4              </td><td>14.80            </td></tr>\n",
       "\t<tr><td>Al Horford       </td><td>C                </td><td>36               </td><td>6' 9\"            </td><td>240 lbs          </td><td>Florida          </td><td>$26,500,000      </td><td>10.2             </td><td>7.7              </td><td>3.4              </td><td>16.71            </td></tr>\n",
       "\t<tr><td>Mfiondu Kabengele</td><td>C                </td><td>25               </td><td>6' 10\"           </td><td>250 lbs          </td><td>Florida State    </td><td>$1,701,593       </td><td>2.4              </td><td>1.5              </td><td>0.4              </td><td>9.59             </td></tr>\n",
       "\t<tr><td>Luke Kornet      </td><td>F                </td><td>27               </td><td>7' 2\"            </td><td>250 lbs          </td><td>Vanderbilt       </td><td>$2,133,278       </td><td>2.0              </td><td>1.9              </td><td>0.6              </td><td>17.16            </td></tr>\n",
       "\t<tr><td>Payton Pritchard </td><td>PG               </td><td>24               </td><td>6' 1\"            </td><td>195 lbs          </td><td>Oregon           </td><td>$2,239,200       </td><td>6.2              </td><td>1.9              </td><td>2.0              </td><td>14.95            </td></tr>\n",
       "\t<tr><td>Matt Ryan        </td><td>F                </td><td>25               </td><td>6' 7\"            </td><td>215 lbs          </td><td>Chattanooga      </td><td>--               </td><td>3.0              </td><td>0.0              </td><td>0.0              </td><td>3.56             </td></tr>\n",
       "</tbody>\n",
       "</table>\n"
      ],
      "text/latex": [
       "\\begin{tabular}{r|lllllllllll}\n",
       " name & position & age & height & weight & college & salary & points & assist & rebound & efficiency\\_rating\\\\\n",
       "\\hline\n",
       "\t Malcolm Brogdon   & PG                & 29                & 6' 5\"             & 229 lbs           & Virginia          & \\$22,600,000     & 19.1              & 5.1               & 5.9               & 18.10            \\\\\n",
       "\t Jaylen Brown      & SG                & 25                & 6' 6\"             & 223 lbs           & California        & \\$28,741,071     & 23.6              & 6.1               & 3.5               & 18.98            \\\\\n",
       "\t JD Davison        & G                 & 19                & 6' 3\"             & 195 lbs           & Alabama           & --                &                   & NA                & NA                & NA               \\\\\n",
       "\t Danilo Gallinari  & F                 & 34                & 6' 10\"            & 236 lbs           & --                & \\$6,479,000      & 11.7              & 4.7               & 1.5               & 14.35            \\\\\n",
       "\t Sam Hauser        & SF                & 24                & 6' 8\"             & 215 lbs           & Virginia          & \\$1,563,518      & 2.5               & 1.1               & 0.4               & 14.80            \\\\\n",
       "\t Al Horford        & C                 & 36                & 6' 9\"             & 240 lbs           & Florida           & \\$26,500,000     & 10.2              & 7.7               & 3.4               & 16.71            \\\\\n",
       "\t Mfiondu Kabengele & C                 & 25                & 6' 10\"            & 250 lbs           & Florida State     & \\$1,701,593      & 2.4               & 1.5               & 0.4               & 9.59             \\\\\n",
       "\t Luke Kornet       & F                 & 27                & 7' 2\"             & 250 lbs           & Vanderbilt        & \\$2,133,278      & 2.0               & 1.9               & 0.6               & 17.16            \\\\\n",
       "\t Payton Pritchard  & PG                & 24                & 6' 1\"             & 195 lbs           & Oregon            & \\$2,239,200      & 6.2               & 1.9               & 2.0               & 14.95            \\\\\n",
       "\t Matt Ryan         & F                 & 25                & 6' 7\"             & 215 lbs           & Chattanooga       & --                & 3.0               & 0.0               & 0.0               & 3.56             \\\\\n",
       "\\end{tabular}\n"
      ],
      "text/markdown": [
       "\n",
       "| name | position | age | height | weight | college | salary | points | assist | rebound | efficiency_rating |\n",
       "|---|---|---|---|---|---|---|---|---|---|---|\n",
       "| Malcolm Brogdon   | PG                | 29                | 6' 5\"             | 229 lbs           | Virginia          | $22,600,000       | 19.1              | 5.1               | 5.9               | 18.10             |\n",
       "| Jaylen Brown      | SG                | 25                | 6' 6\"             | 223 lbs           | California        | $28,741,071       | 23.6              | 6.1               | 3.5               | 18.98             |\n",
       "| JD Davison        | G                 | 19                | 6' 3\"             | 195 lbs           | Alabama           | --                |                   | NA                | NA                | NA                |\n",
       "| Danilo Gallinari  | F                 | 34                | 6' 10\"            | 236 lbs           | --                | $6,479,000        | 11.7              | 4.7               | 1.5               | 14.35             |\n",
       "| Sam Hauser        | SF                | 24                | 6' 8\"             | 215 lbs           | Virginia          | $1,563,518        | 2.5               | 1.1               | 0.4               | 14.80             |\n",
       "| Al Horford        | C                 | 36                | 6' 9\"             | 240 lbs           | Florida           | $26,500,000       | 10.2              | 7.7               | 3.4               | 16.71             |\n",
       "| Mfiondu Kabengele | C                 | 25                | 6' 10\"            | 250 lbs           | Florida State     | $1,701,593        | 2.4               | 1.5               | 0.4               | 9.59              |\n",
       "| Luke Kornet       | F                 | 27                | 7' 2\"             | 250 lbs           | Vanderbilt        | $2,133,278        | 2.0               | 1.9               | 0.6               | 17.16             |\n",
       "| Payton Pritchard  | PG                | 24                | 6' 1\"             | 195 lbs           | Oregon            | $2,239,200        | 6.2               | 1.9               | 2.0               | 14.95             |\n",
       "| Matt Ryan         | F                 | 25                | 6' 7\"             | 215 lbs           | Chattanooga       | --                | 3.0               | 0.0               | 0.0               | 3.56              |\n",
       "\n"
      ],
      "text/plain": [
       "   name              position age height weight  college       salary     \n",
       "1  Malcolm Brogdon   PG       29  6' 5\"  229 lbs Virginia      $22,600,000\n",
       "2  Jaylen Brown      SG       25  6' 6\"  223 lbs California    $28,741,071\n",
       "3  JD Davison        G        19  6' 3\"  195 lbs Alabama       --         \n",
       "4  Danilo Gallinari  F        34  6' 10\" 236 lbs --            $6,479,000 \n",
       "5  Sam Hauser        SF       24  6' 8\"  215 lbs Virginia      $1,563,518 \n",
       "6  Al Horford        C        36  6' 9\"  240 lbs Florida       $26,500,000\n",
       "7  Mfiondu Kabengele C        25  6' 10\" 250 lbs Florida State $1,701,593 \n",
       "8  Luke Kornet       F        27  7' 2\"  250 lbs Vanderbilt    $2,133,278 \n",
       "9  Payton Pritchard  PG       24  6' 1\"  195 lbs Oregon        $2,239,200 \n",
       "10 Matt Ryan         F        25  6' 7\"  215 lbs Chattanooga   --         \n",
       "   points assist rebound efficiency_rating\n",
       "1  19.1   5.1    5.9     18.10            \n",
       "2  23.6   6.1    3.5     18.98            \n",
       "3         NA     NA      NA               \n",
       "4  11.7   4.7    1.5     14.35            \n",
       "5  2.5    1.1    0.4     14.80            \n",
       "6  10.2   7.7    3.4     16.71            \n",
       "7  2.4    1.5    0.4     9.59             \n",
       "8  2.0    1.9    0.6     17.16            \n",
       "9  6.2    1.9    2.0     14.95            \n",
       "10 3.0    0.0    0.0     3.56             "
      ]
     },
     "metadata": {},
     "output_type": "display_data"
    }
   ],
   "source": [
    "celtics_df$stats = stats\n",
    "celtics_df = separate(celtics_df, stats, sep=\", \", into=c(\"points\", \"assist\", \"rebound\", \"efficiency_rating\"))\n",
    "head(celtics_df, 10)"
   ]
  },
  {
   "cell_type": "markdown",
   "id": "51030ead",
   "metadata": {},
   "source": [
    "# 2. Automate scraping for all NBA teams"
   ]
  },
  {
   "cell_type": "code",
   "execution_count": 5,
   "id": "24076aee",
   "metadata": {},
   "outputs": [
    {
     "data": {
      "text/plain": [
       "Time difference of 8.84079 mins"
      ]
     },
     "metadata": {},
     "output_type": "display_data"
    }
   ],
   "source": [
    "nba_teams = c(\"bkn/brooklyn-nets\", \"bos/boston-celtics\", \"ny/new-york-knicks\", \"phi/philadelphia-76ers\", \"tor/toronto-raptors\", \n",
    "          \"chi/chicago-bulls\", \"cle/cleveland-cavaliers\", \"det/detroit-pistons\", \"ind/indiana-pacers\", \"mil/milwaukee-bucks\",\n",
    "          \"atl/atlanta-hawks\", \"cha/charlotte-hornets\", \"mia/miami-heat\", \"orl/orlando-magic\", \"wsh/washington-wizards\",\n",
    "          \"gs/golden-state-warriors\", \"lac/la-clippers\", \"lal/los-angeles-lakers\", \"phx/phoenix-suns\", \"sac/sacramento-kings\",\n",
    "          \"dal/dallas-mavericks\", \"hou/houston-rockets\", \"mem/memphis-grizzlies\", \"no/new-orleans-pelicans\", \"sa/san-antonio-spurs\",\n",
    "          \"den/denver-nuggets\", \"min/minnesota-timberwolves\", \"okc/oklahoma-city-thunder\", \"por/portland-trail-blazers\", \"utah/utah-jazz\"\n",
    "         )\n",
    "\n",
    "get_stats = function(link) {\n",
    "  page = read_html(link)\n",
    "  stats = page %>% html_nodes(\".pv3 .clr-gray-02\") %>% html_text() %>% paste(collapse = \", \")\n",
    "  return(stats)\n",
    "}\n",
    "\n",
    "nba_df = data.frame()\n",
    "\n",
    "start_time = Sys.time()\n",
    "\n",
    "for (team in nba_teams) {\n",
    "    link = paste0(\"https://www.espn.com/nba/team/roster/_/name/\", team)\n",
    "    page = read_html(link)\n",
    "    # Player profile\n",
    "    name = page %>% html_nodes(\".Table__TD+ .Table__TD .AnchorLink\") %>% html_text()\n",
    "    position = page %>% html_nodes(\".Table__TD:nth-child(3) .inline\") %>% html_text()\n",
    "    age = page %>% html_nodes(\".Table__TD:nth-child(4) .inline\") %>% html_text()\n",
    "    height = page %>% html_nodes(\".Table__TD:nth-child(5) .inline\") %>% html_text()\n",
    "    weight = page %>% html_nodes(\".Table__TD:nth-child(6) .inline\") %>% html_text()\n",
    "    college = page %>% html_nodes(\".Table__TD:nth-child(7) .inline\") %>% html_text()\n",
    "    salary = page %>% html_nodes(\".Table__TD:nth-child(8) .inline\") %>% html_text()\n",
    "    # Player stats\n",
    "    stats_link = page %>% html_nodes(\".Table__TD+ .Table__TD .AnchorLink\") %>% html_attr(\"href\")\n",
    "    stats = unname(sapply(stats_link, FUN=get_stats))\n",
    "    # Rbind\n",
    "    nba_df = rbind(nba_df, data.frame(name, position, age, height, weight, college, salary, team, stats))\n",
    "}\n",
    "\n",
    "end_time = Sys.time()\n",
    "end_time - start_time"
   ]
  },
  {
   "cell_type": "code",
   "execution_count": 6,
   "id": "2a922f99",
   "metadata": {
    "scrolled": false
   },
   "outputs": [
    {
     "data": {
      "text/html": [
       "<table>\n",
       "<thead><tr><th scope=col>name</th><th scope=col>position</th><th scope=col>age</th><th scope=col>height</th><th scope=col>weight</th><th scope=col>college</th><th scope=col>salary</th><th scope=col>team</th><th scope=col>stats</th></tr></thead>\n",
       "<tbody>\n",
       "\t<tr><td>LaMarcus Aldridge    </td><td>C                    </td><td>37                   </td><td>6' 11\"               </td><td>250 lbs              </td><td>Texas                </td><td>--                   </td><td>bkn/brooklyn-nets    </td><td>12.9, 5.5, 0.9, 19.69</td></tr>\n",
       "\t<tr><td>Nic Claxton          </td><td>PF                   </td><td>23                   </td><td>6' 11\"               </td><td>215 lbs              </td><td>Georgia              </td><td>$8,500,000           </td><td>bkn/brooklyn-nets    </td><td>8.7, 5.6, 0.9, 18.66 </td></tr>\n",
       "\t<tr><td>Seth Curry           </td><td>SG                   </td><td>32                   </td><td>6' 2\"                </td><td>185 lbs              </td><td>Duke                 </td><td>$8,496,500           </td><td>bkn/brooklyn-nets    </td><td>15.0, 3.1, 3.6, 13.70</td></tr>\n",
       "\t<tr><td>David Duke Jr.       </td><td>SF                   </td><td>22                   </td><td>6' 4\"                </td><td>204 lbs              </td><td>Providence           </td><td>--                   </td><td>bkn/brooklyn-nets    </td><td>4.7, 3.0, 0.8, 10.07 </td></tr>\n",
       "\t<tr><td>Kevin Durant         </td><td>PF                   </td><td>33                   </td><td>6' 10\"               </td><td>240 lbs              </td><td>Texas                </td><td>$44,119,845          </td><td>bkn/brooklyn-nets    </td><td>29.9, 7.4, 6.4, 25.69</td></tr>\n",
       "\t<tr><td>Blake Griffin        </td><td>PF                   </td><td>33                   </td><td>6' 9\"                </td><td>250 lbs              </td><td>Oklahoma             </td><td>--                   </td><td>bkn/brooklyn-nets    </td><td>6.4, 4.1, 1.9, 13.77 </td></tr>\n",
       "</tbody>\n",
       "</table>\n"
      ],
      "text/latex": [
       "\\begin{tabular}{r|lllllllll}\n",
       " name & position & age & height & weight & college & salary & team & stats\\\\\n",
       "\\hline\n",
       "\t LaMarcus Aldridge     & C                     & 37                    & 6' 11\"                & 250 lbs               & Texas                 & --                    & bkn/brooklyn-nets     & 12.9, 5.5, 0.9, 19.69\\\\\n",
       "\t Nic Claxton           & PF                    & 23                    & 6' 11\"                & 215 lbs               & Georgia               & \\$8,500,000          & bkn/brooklyn-nets     & 8.7, 5.6, 0.9, 18.66 \\\\\n",
       "\t Seth Curry            & SG                    & 32                    & 6' 2\"                 & 185 lbs               & Duke                  & \\$8,496,500          & bkn/brooklyn-nets     & 15.0, 3.1, 3.6, 13.70\\\\\n",
       "\t David Duke Jr.        & SF                    & 22                    & 6' 4\"                 & 204 lbs               & Providence            & --                    & bkn/brooklyn-nets     & 4.7, 3.0, 0.8, 10.07 \\\\\n",
       "\t Kevin Durant          & PF                    & 33                    & 6' 10\"                & 240 lbs               & Texas                 & \\$44,119,845         & bkn/brooklyn-nets     & 29.9, 7.4, 6.4, 25.69\\\\\n",
       "\t Blake Griffin         & PF                    & 33                    & 6' 9\"                 & 250 lbs               & Oklahoma              & --                    & bkn/brooklyn-nets     & 6.4, 4.1, 1.9, 13.77 \\\\\n",
       "\\end{tabular}\n"
      ],
      "text/markdown": [
       "\n",
       "| name | position | age | height | weight | college | salary | team | stats |\n",
       "|---|---|---|---|---|---|---|---|---|\n",
       "| LaMarcus Aldridge     | C                     | 37                    | 6' 11\"                | 250 lbs               | Texas                 | --                    | bkn/brooklyn-nets     | 12.9, 5.5, 0.9, 19.69 |\n",
       "| Nic Claxton           | PF                    | 23                    | 6' 11\"                | 215 lbs               | Georgia               | $8,500,000            | bkn/brooklyn-nets     | 8.7, 5.6, 0.9, 18.66  |\n",
       "| Seth Curry            | SG                    | 32                    | 6' 2\"                 | 185 lbs               | Duke                  | $8,496,500            | bkn/brooklyn-nets     | 15.0, 3.1, 3.6, 13.70 |\n",
       "| David Duke Jr.        | SF                    | 22                    | 6' 4\"                 | 204 lbs               | Providence            | --                    | bkn/brooklyn-nets     | 4.7, 3.0, 0.8, 10.07  |\n",
       "| Kevin Durant          | PF                    | 33                    | 6' 10\"                | 240 lbs               | Texas                 | $44,119,845           | bkn/brooklyn-nets     | 29.9, 7.4, 6.4, 25.69 |\n",
       "| Blake Griffin         | PF                    | 33                    | 6' 9\"                 | 250 lbs               | Oklahoma              | --                    | bkn/brooklyn-nets     | 6.4, 4.1, 1.9, 13.77  |\n",
       "\n"
      ],
      "text/plain": [
       "  name              position age height weight  college    salary     \n",
       "1 LaMarcus Aldridge C        37  6' 11\" 250 lbs Texas      --         \n",
       "2 Nic Claxton       PF       23  6' 11\" 215 lbs Georgia    $8,500,000 \n",
       "3 Seth Curry        SG       32  6' 2\"  185 lbs Duke       $8,496,500 \n",
       "4 David Duke Jr.    SF       22  6' 4\"  204 lbs Providence --         \n",
       "5 Kevin Durant      PF       33  6' 10\" 240 lbs Texas      $44,119,845\n",
       "6 Blake Griffin     PF       33  6' 9\"  250 lbs Oklahoma   --         \n",
       "  team              stats                \n",
       "1 bkn/brooklyn-nets 12.9, 5.5, 0.9, 19.69\n",
       "2 bkn/brooklyn-nets 8.7, 5.6, 0.9, 18.66 \n",
       "3 bkn/brooklyn-nets 15.0, 3.1, 3.6, 13.70\n",
       "4 bkn/brooklyn-nets 4.7, 3.0, 0.8, 10.07 \n",
       "5 bkn/brooklyn-nets 29.9, 7.4, 6.4, 25.69\n",
       "6 bkn/brooklyn-nets 6.4, 4.1, 1.9, 13.77 "
      ]
     },
     "metadata": {},
     "output_type": "display_data"
    }
   ],
   "source": [
    "head(nba_df)"
   ]
  },
  {
   "cell_type": "markdown",
   "id": "7bab1d2f",
   "metadata": {},
   "source": [
    "# 3. Data cleaning"
   ]
  },
  {
   "cell_type": "code",
   "execution_count": 7,
   "id": "12bfdb78",
   "metadata": {
    "scrolled": true
   },
   "outputs": [
    {
     "data": {
      "text/html": [
       "<table>\n",
       "<thead><tr><th scope=col>name</th><th scope=col>position</th><th scope=col>age</th><th scope=col>height</th><th scope=col>weight</th><th scope=col>college</th><th scope=col>salary</th><th scope=col>team</th><th scope=col>points</th><th scope=col>assist</th><th scope=col>rebound</th><th scope=col>efficiency_rating</th></tr></thead>\n",
       "<tbody>\n",
       "\t<tr><td>LaMarcus Aldridge</td><td>C                </td><td>37               </td><td>6' 11\"           </td><td>250 lbs          </td><td>Texas            </td><td>--               </td><td>bkn/brooklyn-nets</td><td>12.9             </td><td>5.5              </td><td>0.9              </td><td>19.69            </td></tr>\n",
       "\t<tr><td>Nic Claxton      </td><td>PF               </td><td>23               </td><td>6' 11\"           </td><td>215 lbs          </td><td>Georgia          </td><td>$8,500,000       </td><td>bkn/brooklyn-nets</td><td>8.7              </td><td>5.6              </td><td>0.9              </td><td>18.66            </td></tr>\n",
       "\t<tr><td>Seth Curry       </td><td>SG               </td><td>32               </td><td>6' 2\"            </td><td>185 lbs          </td><td>Duke             </td><td>$8,496,500       </td><td>bkn/brooklyn-nets</td><td>15.0             </td><td>3.1              </td><td>3.6              </td><td>13.70            </td></tr>\n",
       "\t<tr><td>David Duke Jr.   </td><td>SF               </td><td>22               </td><td>6' 4\"            </td><td>204 lbs          </td><td>Providence       </td><td>--               </td><td>bkn/brooklyn-nets</td><td>4.7              </td><td>3.0              </td><td>0.8              </td><td>10.07            </td></tr>\n",
       "\t<tr><td>Kevin Durant     </td><td>PF               </td><td>33               </td><td>6' 10\"           </td><td>240 lbs          </td><td>Texas            </td><td>$44,119,845      </td><td>bkn/brooklyn-nets</td><td>29.9             </td><td>7.4              </td><td>6.4              </td><td>25.69            </td></tr>\n",
       "\t<tr><td>Blake Griffin    </td><td>PF               </td><td>33               </td><td>6' 9\"            </td><td>250 lbs          </td><td>Oklahoma         </td><td>--               </td><td>bkn/brooklyn-nets</td><td>6.4              </td><td>4.1              </td><td>1.9              </td><td>13.77            </td></tr>\n",
       "</tbody>\n",
       "</table>\n"
      ],
      "text/latex": [
       "\\begin{tabular}{r|llllllllllll}\n",
       " name & position & age & height & weight & college & salary & team & points & assist & rebound & efficiency\\_rating\\\\\n",
       "\\hline\n",
       "\t LaMarcus Aldridge & C                 & 37                & 6' 11\"            & 250 lbs           & Texas             & --                & bkn/brooklyn-nets & 12.9              & 5.5               & 0.9               & 19.69            \\\\\n",
       "\t Nic Claxton       & PF                & 23                & 6' 11\"            & 215 lbs           & Georgia           & \\$8,500,000      & bkn/brooklyn-nets & 8.7               & 5.6               & 0.9               & 18.66            \\\\\n",
       "\t Seth Curry        & SG                & 32                & 6' 2\"             & 185 lbs           & Duke              & \\$8,496,500      & bkn/brooklyn-nets & 15.0              & 3.1               & 3.6               & 13.70            \\\\\n",
       "\t David Duke Jr.    & SF                & 22                & 6' 4\"             & 204 lbs           & Providence        & --                & bkn/brooklyn-nets & 4.7               & 3.0               & 0.8               & 10.07            \\\\\n",
       "\t Kevin Durant      & PF                & 33                & 6' 10\"            & 240 lbs           & Texas             & \\$44,119,845     & bkn/brooklyn-nets & 29.9              & 7.4               & 6.4               & 25.69            \\\\\n",
       "\t Blake Griffin     & PF                & 33                & 6' 9\"             & 250 lbs           & Oklahoma          & --                & bkn/brooklyn-nets & 6.4               & 4.1               & 1.9               & 13.77            \\\\\n",
       "\\end{tabular}\n"
      ],
      "text/markdown": [
       "\n",
       "| name | position | age | height | weight | college | salary | team | points | assist | rebound | efficiency_rating |\n",
       "|---|---|---|---|---|---|---|---|---|---|---|---|\n",
       "| LaMarcus Aldridge | C                 | 37                | 6' 11\"            | 250 lbs           | Texas             | --                | bkn/brooklyn-nets | 12.9              | 5.5               | 0.9               | 19.69             |\n",
       "| Nic Claxton       | PF                | 23                | 6' 11\"            | 215 lbs           | Georgia           | $8,500,000        | bkn/brooklyn-nets | 8.7               | 5.6               | 0.9               | 18.66             |\n",
       "| Seth Curry        | SG                | 32                | 6' 2\"             | 185 lbs           | Duke              | $8,496,500        | bkn/brooklyn-nets | 15.0              | 3.1               | 3.6               | 13.70             |\n",
       "| David Duke Jr.    | SF                | 22                | 6' 4\"             | 204 lbs           | Providence        | --                | bkn/brooklyn-nets | 4.7               | 3.0               | 0.8               | 10.07             |\n",
       "| Kevin Durant      | PF                | 33                | 6' 10\"            | 240 lbs           | Texas             | $44,119,845       | bkn/brooklyn-nets | 29.9              | 7.4               | 6.4               | 25.69             |\n",
       "| Blake Griffin     | PF                | 33                | 6' 9\"             | 250 lbs           | Oklahoma          | --                | bkn/brooklyn-nets | 6.4               | 4.1               | 1.9               | 13.77             |\n",
       "\n"
      ],
      "text/plain": [
       "  name              position age height weight  college    salary     \n",
       "1 LaMarcus Aldridge C        37  6' 11\" 250 lbs Texas      --         \n",
       "2 Nic Claxton       PF       23  6' 11\" 215 lbs Georgia    $8,500,000 \n",
       "3 Seth Curry        SG       32  6' 2\"  185 lbs Duke       $8,496,500 \n",
       "4 David Duke Jr.    SF       22  6' 4\"  204 lbs Providence --         \n",
       "5 Kevin Durant      PF       33  6' 10\" 240 lbs Texas      $44,119,845\n",
       "6 Blake Griffin     PF       33  6' 9\"  250 lbs Oklahoma   --         \n",
       "  team              points assist rebound efficiency_rating\n",
       "1 bkn/brooklyn-nets 12.9   5.5    0.9     19.69            \n",
       "2 bkn/brooklyn-nets 8.7    5.6    0.9     18.66            \n",
       "3 bkn/brooklyn-nets 15.0   3.1    3.6     13.70            \n",
       "4 bkn/brooklyn-nets 4.7    3.0    0.8     10.07            \n",
       "5 bkn/brooklyn-nets 29.9   7.4    6.4     25.69            \n",
       "6 bkn/brooklyn-nets 6.4    4.1    1.9     13.77            "
      ]
     },
     "metadata": {},
     "output_type": "display_data"
    }
   ],
   "source": [
    "nba_df_clean = separate(nba_df, stats, sep=\", \", into=c(\"points\", \"assist\", \"rebound\", \"efficiency_rating\"))\n",
    "head(nba_df_clean)"
   ]
  },
  {
   "cell_type": "code",
   "execution_count": 8,
   "id": "36f36676",
   "metadata": {
    "scrolled": true
   },
   "outputs": [
    {
     "data": {
      "text/html": [
       "<table>\n",
       "<thead><tr><th scope=col>name</th><th scope=col>position</th><th scope=col>age</th><th scope=col>height</th><th scope=col>weight</th><th scope=col>college</th><th scope=col>salary</th><th scope=col>team</th><th scope=col>points</th><th scope=col>assist</th><th scope=col>rebound</th><th scope=col>efficiency_rating</th></tr></thead>\n",
       "<tbody>\n",
       "\t<tr><td>LaMarcus Aldridge</td><td>C                </td><td>37               </td><td>210.82           </td><td>113.38           </td><td>Texas            </td><td>      NA         </td><td>bkn/brooklyn-nets</td><td>12.9             </td><td>5.5              </td><td>0.9              </td><td>19.69            </td></tr>\n",
       "\t<tr><td>Nic Claxton      </td><td>PF               </td><td>23               </td><td>210.82           </td><td> 97.51           </td><td>Georgia          </td><td> 8500000         </td><td>bkn/brooklyn-nets</td><td>8.7              </td><td>5.6              </td><td>0.9              </td><td>18.66            </td></tr>\n",
       "\t<tr><td>Seth Curry       </td><td>SG               </td><td>32               </td><td>187.96           </td><td> 83.90           </td><td>Duke             </td><td> 8496500         </td><td>bkn/brooklyn-nets</td><td>15.0             </td><td>3.1              </td><td>3.6              </td><td>13.70            </td></tr>\n",
       "\t<tr><td>David Duke Jr.   </td><td>SF               </td><td>22               </td><td>193.04           </td><td> 92.52           </td><td>Providence       </td><td>      NA         </td><td>bkn/brooklyn-nets</td><td>4.7              </td><td>3.0              </td><td>0.8              </td><td>10.07            </td></tr>\n",
       "\t<tr><td>Kevin Durant     </td><td>PF               </td><td>33               </td><td>208.28           </td><td>108.84           </td><td>Texas            </td><td>44119845         </td><td>bkn/brooklyn-nets</td><td>29.9             </td><td>7.4              </td><td>6.4              </td><td>25.69            </td></tr>\n",
       "\t<tr><td>Blake Griffin    </td><td>PF               </td><td>33               </td><td>205.74           </td><td>113.38           </td><td>Oklahoma         </td><td>      NA         </td><td>bkn/brooklyn-nets</td><td>6.4              </td><td>4.1              </td><td>1.9              </td><td>13.77            </td></tr>\n",
       "</tbody>\n",
       "</table>\n"
      ],
      "text/latex": [
       "\\begin{tabular}{r|llllllllllll}\n",
       " name & position & age & height & weight & college & salary & team & points & assist & rebound & efficiency\\_rating\\\\\n",
       "\\hline\n",
       "\t LaMarcus Aldridge & C                 & 37                & 210.82            & 113.38            & Texas             &       NA          & bkn/brooklyn-nets & 12.9              & 5.5               & 0.9               & 19.69            \\\\\n",
       "\t Nic Claxton       & PF                & 23                & 210.82            &  97.51            & Georgia           &  8500000          & bkn/brooklyn-nets & 8.7               & 5.6               & 0.9               & 18.66            \\\\\n",
       "\t Seth Curry        & SG                & 32                & 187.96            &  83.90            & Duke              &  8496500          & bkn/brooklyn-nets & 15.0              & 3.1               & 3.6               & 13.70            \\\\\n",
       "\t David Duke Jr.    & SF                & 22                & 193.04            &  92.52            & Providence        &       NA          & bkn/brooklyn-nets & 4.7               & 3.0               & 0.8               & 10.07            \\\\\n",
       "\t Kevin Durant      & PF                & 33                & 208.28            & 108.84            & Texas             & 44119845          & bkn/brooklyn-nets & 29.9              & 7.4               & 6.4               & 25.69            \\\\\n",
       "\t Blake Griffin     & PF                & 33                & 205.74            & 113.38            & Oklahoma          &       NA          & bkn/brooklyn-nets & 6.4               & 4.1               & 1.9               & 13.77            \\\\\n",
       "\\end{tabular}\n"
      ],
      "text/markdown": [
       "\n",
       "| name | position | age | height | weight | college | salary | team | points | assist | rebound | efficiency_rating |\n",
       "|---|---|---|---|---|---|---|---|---|---|---|---|\n",
       "| LaMarcus Aldridge | C                 | 37                | 210.82            | 113.38            | Texas             |       NA          | bkn/brooklyn-nets | 12.9              | 5.5               | 0.9               | 19.69             |\n",
       "| Nic Claxton       | PF                | 23                | 210.82            |  97.51            | Georgia           |  8500000          | bkn/brooklyn-nets | 8.7               | 5.6               | 0.9               | 18.66             |\n",
       "| Seth Curry        | SG                | 32                | 187.96            |  83.90            | Duke              |  8496500          | bkn/brooklyn-nets | 15.0              | 3.1               | 3.6               | 13.70             |\n",
       "| David Duke Jr.    | SF                | 22                | 193.04            |  92.52            | Providence        |       NA          | bkn/brooklyn-nets | 4.7               | 3.0               | 0.8               | 10.07             |\n",
       "| Kevin Durant      | PF                | 33                | 208.28            | 108.84            | Texas             | 44119845          | bkn/brooklyn-nets | 29.9              | 7.4               | 6.4               | 25.69             |\n",
       "| Blake Griffin     | PF                | 33                | 205.74            | 113.38            | Oklahoma          |       NA          | bkn/brooklyn-nets | 6.4               | 4.1               | 1.9               | 13.77             |\n",
       "\n"
      ],
      "text/plain": [
       "  name              position age height weight college    salary  \n",
       "1 LaMarcus Aldridge C        37  210.82 113.38 Texas            NA\n",
       "2 Nic Claxton       PF       23  210.82  97.51 Georgia     8500000\n",
       "3 Seth Curry        SG       32  187.96  83.90 Duke        8496500\n",
       "4 David Duke Jr.    SF       22  193.04  92.52 Providence       NA\n",
       "5 Kevin Durant      PF       33  208.28 108.84 Texas      44119845\n",
       "6 Blake Griffin     PF       33  205.74 113.38 Oklahoma         NA\n",
       "  team              points assist rebound efficiency_rating\n",
       "1 bkn/brooklyn-nets 12.9   5.5    0.9     19.69            \n",
       "2 bkn/brooklyn-nets 8.7    5.6    0.9     18.66            \n",
       "3 bkn/brooklyn-nets 15.0   3.1    3.6     13.70            \n",
       "4 bkn/brooklyn-nets 4.7    3.0    0.8     10.07            \n",
       "5 bkn/brooklyn-nets 29.9   7.4    6.4     25.69            \n",
       "6 bkn/brooklyn-nets 6.4    4.1    1.9     13.77            "
      ]
     },
     "metadata": {},
     "output_type": "display_data"
    }
   ],
   "source": [
    "height_in_cm = nba_df %>% separate(height, into=c(\"feet\", \"inches\"), convert=TRUE) %>% transmute(height = feet * 30.48 + inches * 2.54)\n",
    "nba_df_clean$height = height_in_cm[['height']]\n",
    "nba_df_clean$weight = round(as.numeric(gsub('lbs', '', nba_df$weight)) / 2.205, 2)\n",
    "nba_df_clean$salary = as.numeric(gsub('[$,]', '', nba_df$salary))\n",
    "head(nba_df_clean)"
   ]
  },
  {
   "cell_type": "code",
   "execution_count": 9,
   "id": "7530c20f",
   "metadata": {},
   "outputs": [
    {
     "data": {
      "text/html": [
       "<table>\n",
       "<thead><tr><th scope=col>name</th><th scope=col>position</th><th scope=col>age</th><th scope=col>height</th><th scope=col>weight</th><th scope=col>college</th><th scope=col>salary</th><th scope=col>team</th><th scope=col>points</th><th scope=col>assist</th><th scope=col>rebound</th><th scope=col>efficiency_rating</th></tr></thead>\n",
       "<tbody>\n",
       "\t<tr><td>LaMarcus Aldridge</td><td>C                </td><td>37               </td><td>210.82           </td><td>113.38           </td><td>Texas            </td><td>      NA         </td><td>Brooklyn Nets    </td><td>12.9             </td><td>5.5              </td><td>0.9              </td><td>19.69            </td></tr>\n",
       "\t<tr><td>Nic Claxton      </td><td>PF               </td><td>23               </td><td>210.82           </td><td> 97.51           </td><td>Georgia          </td><td> 8500000         </td><td>Brooklyn Nets    </td><td>8.7              </td><td>5.6              </td><td>0.9              </td><td>18.66            </td></tr>\n",
       "\t<tr><td>Seth Curry       </td><td>SG               </td><td>32               </td><td>187.96           </td><td> 83.90           </td><td>Duke             </td><td> 8496500         </td><td>Brooklyn Nets    </td><td>15.0             </td><td>3.1              </td><td>3.6              </td><td>13.70            </td></tr>\n",
       "\t<tr><td>David Duke Jr.   </td><td>SF               </td><td>22               </td><td>193.04           </td><td> 92.52           </td><td>Providence       </td><td>      NA         </td><td>Brooklyn Nets    </td><td>4.7              </td><td>3.0              </td><td>0.8              </td><td>10.07            </td></tr>\n",
       "\t<tr><td>Kevin Durant     </td><td>PF               </td><td>33               </td><td>208.28           </td><td>108.84           </td><td>Texas            </td><td>44119845         </td><td>Brooklyn Nets    </td><td>29.9             </td><td>7.4              </td><td>6.4              </td><td>25.69            </td></tr>\n",
       "\t<tr><td>Blake Griffin    </td><td>PF               </td><td>33               </td><td>205.74           </td><td>113.38           </td><td>Oklahoma         </td><td>      NA         </td><td>Brooklyn Nets    </td><td>6.4              </td><td>4.1              </td><td>1.9              </td><td>13.77            </td></tr>\n",
       "</tbody>\n",
       "</table>\n"
      ],
      "text/latex": [
       "\\begin{tabular}{r|llllllllllll}\n",
       " name & position & age & height & weight & college & salary & team & points & assist & rebound & efficiency\\_rating\\\\\n",
       "\\hline\n",
       "\t LaMarcus Aldridge & C                 & 37                & 210.82            & 113.38            & Texas             &       NA          & Brooklyn Nets     & 12.9              & 5.5               & 0.9               & 19.69            \\\\\n",
       "\t Nic Claxton       & PF                & 23                & 210.82            &  97.51            & Georgia           &  8500000          & Brooklyn Nets     & 8.7               & 5.6               & 0.9               & 18.66            \\\\\n",
       "\t Seth Curry        & SG                & 32                & 187.96            &  83.90            & Duke              &  8496500          & Brooklyn Nets     & 15.0              & 3.1               & 3.6               & 13.70            \\\\\n",
       "\t David Duke Jr.    & SF                & 22                & 193.04            &  92.52            & Providence        &       NA          & Brooklyn Nets     & 4.7               & 3.0               & 0.8               & 10.07            \\\\\n",
       "\t Kevin Durant      & PF                & 33                & 208.28            & 108.84            & Texas             & 44119845          & Brooklyn Nets     & 29.9              & 7.4               & 6.4               & 25.69            \\\\\n",
       "\t Blake Griffin     & PF                & 33                & 205.74            & 113.38            & Oklahoma          &       NA          & Brooklyn Nets     & 6.4               & 4.1               & 1.9               & 13.77            \\\\\n",
       "\\end{tabular}\n"
      ],
      "text/markdown": [
       "\n",
       "| name | position | age | height | weight | college | salary | team | points | assist | rebound | efficiency_rating |\n",
       "|---|---|---|---|---|---|---|---|---|---|---|---|\n",
       "| LaMarcus Aldridge | C                 | 37                | 210.82            | 113.38            | Texas             |       NA          | Brooklyn Nets     | 12.9              | 5.5               | 0.9               | 19.69             |\n",
       "| Nic Claxton       | PF                | 23                | 210.82            |  97.51            | Georgia           |  8500000          | Brooklyn Nets     | 8.7               | 5.6               | 0.9               | 18.66             |\n",
       "| Seth Curry        | SG                | 32                | 187.96            |  83.90            | Duke              |  8496500          | Brooklyn Nets     | 15.0              | 3.1               | 3.6               | 13.70             |\n",
       "| David Duke Jr.    | SF                | 22                | 193.04            |  92.52            | Providence        |       NA          | Brooklyn Nets     | 4.7               | 3.0               | 0.8               | 10.07             |\n",
       "| Kevin Durant      | PF                | 33                | 208.28            | 108.84            | Texas             | 44119845          | Brooklyn Nets     | 29.9              | 7.4               | 6.4               | 25.69             |\n",
       "| Blake Griffin     | PF                | 33                | 205.74            | 113.38            | Oklahoma          |       NA          | Brooklyn Nets     | 6.4               | 4.1               | 1.9               | 13.77             |\n",
       "\n"
      ],
      "text/plain": [
       "  name              position age height weight college    salary  \n",
       "1 LaMarcus Aldridge C        37  210.82 113.38 Texas            NA\n",
       "2 Nic Claxton       PF       23  210.82  97.51 Georgia     8500000\n",
       "3 Seth Curry        SG       32  187.96  83.90 Duke        8496500\n",
       "4 David Duke Jr.    SF       22  193.04  92.52 Providence       NA\n",
       "5 Kevin Durant      PF       33  208.28 108.84 Texas      44119845\n",
       "6 Blake Griffin     PF       33  205.74 113.38 Oklahoma         NA\n",
       "  team          points assist rebound efficiency_rating\n",
       "1 Brooklyn Nets 12.9   5.5    0.9     19.69            \n",
       "2 Brooklyn Nets 8.7    5.6    0.9     18.66            \n",
       "3 Brooklyn Nets 15.0   3.1    3.6     13.70            \n",
       "4 Brooklyn Nets 4.7    3.0    0.8     10.07            \n",
       "5 Brooklyn Nets 29.9   7.4    6.4     25.69            \n",
       "6 Brooklyn Nets 6.4    4.1    1.9     13.77            "
      ]
     },
     "metadata": {},
     "output_type": "display_data"
    }
   ],
   "source": [
    "nba_df_clean[nba_df_clean$college == \"--\", \"college\"] = NA\n",
    "\n",
    "clean_team_names = function(name) {\n",
    "    if(name == \"bkn/brooklyn-nets\") {\n",
    "        res = \"Brooklyn Nets\"\n",
    "    } else if(name == \"bos/boston-celtics\") {\n",
    "        res = \"Boston Celtics\"\n",
    "    } else if(name == \"ny/new-york-knicks\") {\n",
    "        res = \"New York Knicks\"\n",
    "    } else if(name == \"phi/philadelphia-76ers\") {\n",
    "        res = \"Philadelphia 76ers\"\n",
    "    } else if(name == \"tor/toronto-raptors\") {\n",
    "        res = \"Toronto Raptors\"\n",
    "    } else if(name == \"chi/chicago-bulls\") {\n",
    "        res = \"Chicago Bulls\"\n",
    "    } else if(name == \"cle/cleveland-cavaliers\") {\n",
    "        res = \"Cleveland Cavaliers\"\n",
    "    } else if(name == \"det/detroit-pistons\") {\n",
    "        res = \"Detroit Pistons\"\n",
    "    } else if(name == \"ind/indiana-pacers\") {\n",
    "        res = \"Indiana Pacers\"\n",
    "    } else if(name == \"mil/milwaukee-bucks\") {\n",
    "        res = \"Milwaukee Bucks\"\n",
    "    } else if(name == \"atl/atlanta-hawks\") {\n",
    "        res = \"Atlanta Hawks\"\n",
    "    } else if(name == \"cha/charlotte-hornets\") {\n",
    "        res = \"Charlotte Hornets\"\n",
    "    } else if(name == \"mia/miami-heat\") {\n",
    "        res = \"Miami Heat\"\n",
    "    } else if(name == \"orl/orlando-magic\") {\n",
    "        res = \"Orlando Magic\"\n",
    "    } else if(name == \"wsh/washington-wizards\") {\n",
    "        res = \"Washington Wizards\"\n",
    "    } else if(name == \"gs/golden-state-warriors\") {\n",
    "        res = \"Golden State Warriors\"\n",
    "    } else if(name == \"lac/la-clippers\") {\n",
    "        res = \"Los Angeles Clippers\"\n",
    "    } else if(name == \"lal/los-angeles-lakers\") {\n",
    "        res = \"Los Angeles Lakers\"\n",
    "    } else if(name == \"phx/phoenix-suns\") {\n",
    "        res = \"Phoenix Suns\"\n",
    "    } else if(name == \"sac/sacramento-kings\") {\n",
    "        res = \"Sacremento Kings\"\n",
    "    } else if(name == \"dal/dallas-mavericks\") {\n",
    "        res = \"Dallas Mavericks\"\n",
    "    } else if(name == \"hou/houston-rockets\") {\n",
    "        res = \"Houston Rockets\"\n",
    "    } else if(name == \"mem/memphis-grizzlies\") {\n",
    "        res = \"Memphis Grizzlies\"\n",
    "    } else if(name == \"no/new-orleans-pelicans\") {\n",
    "        res = \"New Orleans Pelicans\"\n",
    "    } else if(name == \"sa/san-antonio-spurs\") {\n",
    "        res = \"San Antonio Spurs\"\n",
    "    } else if(name == \"den/denver-nuggets\") {\n",
    "        res = \"Denver Nuggets\"\n",
    "    } else if(name == \"min/minnesota-timberwolves\") {\n",
    "        res = \"Minnesota Timberwolves\"\n",
    "    } else if(name == \"okc/oklahoma-city-thunder\") {\n",
    "        res = \"Oklahoma City Thunder\"\n",
    "    } else if(name == \"por/portland-trail-blazers\") {\n",
    "        res = \"Portland Trail Blazers\"\n",
    "    } else {\n",
    "        res = \"Utah Jazz\"\n",
    "    }\n",
    "    return(res)\n",
    "}\n",
    "nba_df_clean$team = as.factor(sapply(nba_df_clean$team, clean_team_names))\n",
    "head(nba_df_clean)"
   ]
  },
  {
   "cell_type": "code",
   "execution_count": 10,
   "id": "259fcdbc",
   "metadata": {
    "scrolled": false
   },
   "outputs": [
    {
     "name": "stdout",
     "output_type": "stream",
     "text": [
      "'data.frame':\t597 obs. of  12 variables:\n",
      " $ name             : Factor w/ 597 levels \"Alondes Williams\",..: 11 13 16 5 9 3 8 10 14 12 ...\n",
      " $ position         : Factor w/ 7 levels \"C\",\"G\",\"PF\",\"PG\",..: 1 3 6 5 3 3 5 4 4 3 ...\n",
      " $ age              : Factor w/ 23 levels \"20\",\"22\",\"23\",..: 11 3 8 2 9 9 7 6 10 9 ...\n",
      " $ height           : num  211 211 188 193 208 ...\n",
      " $ weight           : num  113.4 97.5 83.9 92.5 108.8 ...\n",
      " $ college          : Factor w/ 140 levels \"Baylor\",\"Duke\",..: 11 3 2 9 11 8 12 2 10 4 ...\n",
      " $ salary           : num  NA 8500000 8496500 NA 44119845 ...\n",
      " $ team             : Factor w/ 30 levels \"Atlanta Hawks\",..: 3 3 3 3 3 3 3 3 3 3 ...\n",
      " $ points           : chr  \"12.9\" \"8.7\" \"15.0\" \"4.7\" ...\n",
      " $ assist           : chr  \"5.5\" \"5.6\" \"3.1\" \"3.0\" ...\n",
      " $ rebound          : chr  \"0.9\" \"0.9\" \"3.6\" \"0.8\" ...\n",
      " $ efficiency_rating: chr  \"19.69\" \"18.66\" \"13.70\" \"10.07\" ...\n"
     ]
    }
   ],
   "source": [
    "str(nba_df_clean)"
   ]
  },
  {
   "cell_type": "code",
   "execution_count": 11,
   "id": "32917b25",
   "metadata": {},
   "outputs": [],
   "source": [
    "nba_df_clean$name = as.character(nba_df_clean$name)\n",
    "nba_df_clean$age = as.numeric(levels(nba_df_clean$age))[nba_df_clean$age]\n",
    "nba_df_clean$points = as.numeric(nba_df_clean$points)\n",
    "nba_df_clean$assist = as.numeric(nba_df_clean$assist)\n",
    "nba_df_clean$rebound = as.numeric(nba_df_clean$rebound)\n",
    "nba_df_clean$efficiency_rating = as.numeric(nba_df_clean$efficiency_rating)"
   ]
  },
  {
   "cell_type": "code",
   "execution_count": 12,
   "id": "93593e1d",
   "metadata": {
    "scrolled": false
   },
   "outputs": [
    {
     "name": "stdout",
     "output_type": "stream",
     "text": [
      "'data.frame':\t597 obs. of  12 variables:\n",
      " $ name             : chr  \"LaMarcus Aldridge\" \"Nic Claxton\" \"Seth Curry\" \"David Duke Jr.\" ...\n",
      " $ position         : Factor w/ 7 levels \"C\",\"G\",\"PF\",\"PG\",..: 1 3 6 5 3 3 5 4 4 3 ...\n",
      " $ age              : num  37 23 32 22 33 33 31 30 34 33 ...\n",
      " $ height           : num  211 211 188 193 208 ...\n",
      " $ weight           : num  113.4 97.5 83.9 92.5 108.8 ...\n",
      " $ college          : Factor w/ 140 levels \"Baylor\",\"Duke\",..: 11 3 2 9 11 8 12 2 10 4 ...\n",
      " $ salary           : num  NA 8500000 8496500 NA 44119845 ...\n",
      " $ team             : Factor w/ 30 levels \"Atlanta Hawks\",..: 3 3 3 3 3 3 3 3 3 3 ...\n",
      " $ points           : num  12.9 8.7 15 4.7 29.9 6.4 11.3 27.4 11.4 7.6 ...\n",
      " $ assist           : num  5.5 5.6 3.1 3 7.4 4.1 4 4.4 1.9 2.6 ...\n",
      " $ rebound          : num  0.9 0.9 3.6 0.8 6.4 1.9 1 5.8 2.3 1.4 ...\n",
      " $ efficiency_rating: num  19.7 18.7 13.7 10.1 25.7 ...\n"
     ]
    }
   ],
   "source": [
    "str(nba_df_clean)"
   ]
  },
  {
   "cell_type": "code",
   "execution_count": 13,
   "id": "7c779577",
   "metadata": {
    "scrolled": false
   },
   "outputs": [],
   "source": [
    "# write.csv(nba_df_clean, \"C:/Users/JChong/Downloads/nba.csv\", row.names=FALSE)"
   ]
  },
  {
   "cell_type": "markdown",
   "id": "515b06a2",
   "metadata": {},
   "source": [
    "# 4. Basic exploratory data analysis"
   ]
  },
  {
   "cell_type": "code",
   "execution_count": 14,
   "id": "23cf0777",
   "metadata": {},
   "outputs": [
    {
     "data": {
      "text/html": [
       "<table>\n",
       "<thead><tr><th scope=col>name</th><th scope=col>position</th><th scope=col>age</th><th scope=col>height</th><th scope=col>weight</th><th scope=col>college</th><th scope=col>salary</th><th scope=col>team</th><th scope=col>points</th><th scope=col>assist</th><th scope=col>rebound</th><th scope=col>efficiency_rating</th></tr></thead>\n",
       "<tbody>\n",
       "\t<tr><td>LaMarcus Aldridge</td><td>C                </td><td>37               </td><td>210.82           </td><td>113.38           </td><td>Texas            </td><td>      NA         </td><td>Brooklyn Nets    </td><td>12.9             </td><td>5.5              </td><td>0.9              </td><td>19.69            </td></tr>\n",
       "\t<tr><td>Nic Claxton      </td><td>PF               </td><td>23               </td><td>210.82           </td><td> 97.51           </td><td>Georgia          </td><td> 8500000         </td><td>Brooklyn Nets    </td><td> 8.7             </td><td>5.6              </td><td>0.9              </td><td>18.66            </td></tr>\n",
       "\t<tr><td>Seth Curry       </td><td>SG               </td><td>32               </td><td>187.96           </td><td> 83.90           </td><td>Duke             </td><td> 8496500         </td><td>Brooklyn Nets    </td><td>15.0             </td><td>3.1              </td><td>3.6              </td><td>13.70            </td></tr>\n",
       "\t<tr><td>David Duke Jr.   </td><td>SF               </td><td>22               </td><td>193.04           </td><td> 92.52           </td><td>Providence       </td><td>      NA         </td><td>Brooklyn Nets    </td><td> 4.7             </td><td>3.0              </td><td>0.8              </td><td>10.07            </td></tr>\n",
       "\t<tr><td>Kevin Durant     </td><td>PF               </td><td>33               </td><td>208.28           </td><td>108.84           </td><td>Texas            </td><td>44119845         </td><td>Brooklyn Nets    </td><td>29.9             </td><td>7.4              </td><td>6.4              </td><td>25.69            </td></tr>\n",
       "\t<tr><td>Blake Griffin    </td><td>PF               </td><td>33               </td><td>205.74           </td><td>113.38           </td><td>Oklahoma         </td><td>      NA         </td><td>Brooklyn Nets    </td><td> 6.4             </td><td>4.1              </td><td>1.9              </td><td>13.77            </td></tr>\n",
       "</tbody>\n",
       "</table>\n"
      ],
      "text/latex": [
       "\\begin{tabular}{r|llllllllllll}\n",
       " name & position & age & height & weight & college & salary & team & points & assist & rebound & efficiency\\_rating\\\\\n",
       "\\hline\n",
       "\t LaMarcus Aldridge & C                 & 37                & 210.82            & 113.38            & Texas             &       NA          & Brooklyn Nets     & 12.9              & 5.5               & 0.9               & 19.69            \\\\\n",
       "\t Nic Claxton       & PF                & 23                & 210.82            &  97.51            & Georgia           &  8500000          & Brooklyn Nets     &  8.7              & 5.6               & 0.9               & 18.66            \\\\\n",
       "\t Seth Curry        & SG                & 32                & 187.96            &  83.90            & Duke              &  8496500          & Brooklyn Nets     & 15.0              & 3.1               & 3.6               & 13.70            \\\\\n",
       "\t David Duke Jr.    & SF                & 22                & 193.04            &  92.52            & Providence        &       NA          & Brooklyn Nets     &  4.7              & 3.0               & 0.8               & 10.07            \\\\\n",
       "\t Kevin Durant      & PF                & 33                & 208.28            & 108.84            & Texas             & 44119845          & Brooklyn Nets     & 29.9              & 7.4               & 6.4               & 25.69            \\\\\n",
       "\t Blake Griffin     & PF                & 33                & 205.74            & 113.38            & Oklahoma          &       NA          & Brooklyn Nets     &  6.4              & 4.1               & 1.9               & 13.77            \\\\\n",
       "\\end{tabular}\n"
      ],
      "text/markdown": [
       "\n",
       "| name | position | age | height | weight | college | salary | team | points | assist | rebound | efficiency_rating |\n",
       "|---|---|---|---|---|---|---|---|---|---|---|---|\n",
       "| LaMarcus Aldridge | C                 | 37                | 210.82            | 113.38            | Texas             |       NA          | Brooklyn Nets     | 12.9              | 5.5               | 0.9               | 19.69             |\n",
       "| Nic Claxton       | PF                | 23                | 210.82            |  97.51            | Georgia           |  8500000          | Brooklyn Nets     |  8.7              | 5.6               | 0.9               | 18.66             |\n",
       "| Seth Curry        | SG                | 32                | 187.96            |  83.90            | Duke              |  8496500          | Brooklyn Nets     | 15.0              | 3.1               | 3.6               | 13.70             |\n",
       "| David Duke Jr.    | SF                | 22                | 193.04            |  92.52            | Providence        |       NA          | Brooklyn Nets     |  4.7              | 3.0               | 0.8               | 10.07             |\n",
       "| Kevin Durant      | PF                | 33                | 208.28            | 108.84            | Texas             | 44119845          | Brooklyn Nets     | 29.9              | 7.4               | 6.4               | 25.69             |\n",
       "| Blake Griffin     | PF                | 33                | 205.74            | 113.38            | Oklahoma          |       NA          | Brooklyn Nets     |  6.4              | 4.1               | 1.9               | 13.77             |\n",
       "\n"
      ],
      "text/plain": [
       "  name              position age height weight college    salary  \n",
       "1 LaMarcus Aldridge C        37  210.82 113.38 Texas            NA\n",
       "2 Nic Claxton       PF       23  210.82  97.51 Georgia     8500000\n",
       "3 Seth Curry        SG       32  187.96  83.90 Duke        8496500\n",
       "4 David Duke Jr.    SF       22  193.04  92.52 Providence       NA\n",
       "5 Kevin Durant      PF       33  208.28 108.84 Texas      44119845\n",
       "6 Blake Griffin     PF       33  205.74 113.38 Oklahoma         NA\n",
       "  team          points assist rebound efficiency_rating\n",
       "1 Brooklyn Nets 12.9   5.5    0.9     19.69            \n",
       "2 Brooklyn Nets  8.7   5.6    0.9     18.66            \n",
       "3 Brooklyn Nets 15.0   3.1    3.6     13.70            \n",
       "4 Brooklyn Nets  4.7   3.0    0.8     10.07            \n",
       "5 Brooklyn Nets 29.9   7.4    6.4     25.69            \n",
       "6 Brooklyn Nets  6.4   4.1    1.9     13.77            "
      ]
     },
     "metadata": {},
     "output_type": "display_data"
    }
   ],
   "source": [
    "head(nba_df_clean)"
   ]
  },
  {
   "cell_type": "markdown",
   "id": "87b28031",
   "metadata": {},
   "source": [
    "## 4.1 Height and weight distribution by player position"
   ]
  },
  {
   "cell_type": "code",
   "execution_count": 15,
   "id": "d372f043",
   "metadata": {},
   "outputs": [
    {
     "data": {
      "image/png": "[encoded data removed]",
      "text/plain": [
       "plot without title"
      ]
     },
     "metadata": {},
     "output_type": "display_data"
    }
   ],
   "source": [
    "height_density = nba_df_clean %>% ggplot(aes(x=height, fill=position)) + geom_density(position=\"identity\", alpha=0.2, bins=50) + xlab(\"\") + ylab(\"\") + scale_fill_discrete(\"\") + ggtitle(\"Height (cm) distribution by player position\")\n",
    "height_box = nba_df_clean %>% ggplot(aes(x=reorder(position, height, na.rm=TRUE), y=height)) + geom_boxplot() + xlab(\"\") + ylab(\"\")\n",
    "grid.arrange(height_density, height_box, ncol=1)"
   ]
  },
  {
   "cell_type": "code",
   "execution_count": 16,
   "id": "9fc591d0",
   "metadata": {},
   "outputs": [
    {
     "data": {
      "image/png": "[encoded data removed]",
      "text/plain": [
       "plot without title"
      ]
     },
     "metadata": {},
     "output_type": "display_data"
    }
   ],
   "source": [
    "weight_density = nba_df_clean %>% ggplot(aes(x=weight, fill=position)) + geom_density(position=\"identity\", alpha=0.2, bins=50) + xlab(\"\") + ylab(\"\") + scale_fill_discrete(\"\") + ggtitle(\"Weight (kg) distribution by player position\")\n",
    "weight_box = nba_df_clean %>% ggplot(aes(x=reorder(position, weight, na.rm=TRUE), y=weight)) + geom_boxplot() + xlab(\"\") + ylab(\"\")\n",
    "grid.arrange(weight_density, weight_box, ncol=1)"
   ]
  },
  {
   "cell_type": "markdown",
   "id": "c7cba5f0",
   "metadata": {},
   "source": [
    "## 4.2 Correlation between numeric variables"
   ]
  },
  {
   "cell_type": "code",
   "execution_count": 17,
   "id": "5a98d591",
   "metadata": {},
   "outputs": [],
   "source": [
    "nba_df_numeric = nba_df_clean[, c(\"age\", \"height\", \"weight\", \"salary\", \"points\", \"assist\", \"rebound\", \"efficiency_rating\")]\n",
    "correlation = round(cor(nba_df_numeric, use=\"complete.obs\"), 2)"
   ]
  },
  {
   "cell_type": "code",
   "execution_count": 18,
   "id": "79741a6d",
   "metadata": {},
   "outputs": [
    {
     "data": {
      "image/png": "[encoded data removed]",
      "text/plain": [
       "plot without title"
      ]
     },
     "metadata": {},
     "output_type": "display_data"
    }
   ],
   "source": [
    "ggcorrplot(correlation, type=\"lower\", lab=TRUE, lab_size=3, method=\"circle\", colors = c(\"tomato\", \"white\", \"springgreen\"))"
   ]
  },
  {
   "cell_type": "markdown",
   "id": "b4b59cf8",
   "metadata": {},
   "source": [
    "Two interesting call-outs would be: (1) average points scored per game is highly positively correlated to salary and (2) height is negatively correlated with average rebounds per game. "
   ]
  },
  {
   "cell_type": "code",
   "execution_count": 19,
   "id": "ae43e2c7",
   "metadata": {
    "scrolled": true
   },
   "outputs": [
    {
     "data": {
      "image/png": "[encoded data removed]",
      "text/plain": [
       "plot without title"
      ]
     },
     "metadata": {},
     "output_type": "display_data"
    }
   ],
   "source": [
    "nba_df_clean %>% ggplot(aes(x=points, y=salary)) + geom_point() + ggtitle(\"Relationship between average points scored per game and player salary\") + xlab(\"Average points scored per game\") + ylab(\"Annual player salary ($)\")"
   ]
  },
  {
   "cell_type": "markdown",
   "id": "5dc4c546",
   "metadata": {},
   "source": [
    "## 4.3 College alumni"
   ]
  },
  {
   "cell_type": "code",
   "execution_count": 20,
   "id": "8c0f2652",
   "metadata": {},
   "outputs": [
    {
     "data": {
      "image/png": "[encoded data removed]",
      "text/plain": [
       "plot without title"
      ]
     },
     "metadata": {},
     "output_type": "display_data"
    }
   ],
   "source": [
    "college = nba_df_clean %>% group_by(college) %>% summarise(college_count=length(na.omit(college))) %>% top_n(n=10, college_count)\n",
    "college %>% ggplot(aes(reorder(college, college_count), college_count)) + geom_bar(stat=\"identity\") + coord_flip() + ggtitle(\"Top 10 colleges with the most current NBA players\") + xlab(\"College\") + ylab(\"Count\")"
   ]
  },
  {
   "cell_type": "markdown",
   "id": "1029fbd0",
   "metadata": {},
   "source": [
    "## 4.4 Highest paid NBA players"
   ]
  },
  {
   "cell_type": "code",
   "execution_count": 21,
   "id": "25f4ba00",
   "metadata": {},
   "outputs": [
    {
     "data": {
      "image/png": "[encoded data removed]",
      "text/plain": [
       "plot without title"
      ]
     },
     "metadata": {},
     "output_type": "display_data"
    }
   ],
   "source": [
    "nba_df_clean %>% top_n(10, salary) %>% ggplot(aes(reorder(name, salary), salary)) + geom_bar(stat=\"identity\") + coord_flip() + ggtitle(\"Top 10 highest paid NBA players\") + xlab(\"Player name\") + ylab(\"Annual salary ($)\")"
   ]
  }
 ],
 "metadata": {
  "kernelspec": {
   "display_name": "R",
   "language": "R",
   "name": "ir"
  },
  "language_info": {
   "codemirror_mode": "r",
   "file_extension": ".r",
   "mimetype": "text/x-r-source",
   "name": "R",
   "pygments_lexer": "r",
   "version": "3.6.1"
  }
 },
 "nbformat": 4,
 "nbformat_minor": 5
}
